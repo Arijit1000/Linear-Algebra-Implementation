{
  "nbformat": 4,
  "nbformat_minor": 0,
  "metadata": {
    "colab": {
      "name": "Linear Algebra.ipynb",
      "provenance": [],
      "collapsed_sections": [],
      "include_colab_link": true
    },
    "kernelspec": {
      "name": "python3",
      "display_name": "Python 3"
    },
    "language_info": {
      "name": "python"
    }
  },
  "cells": [
    {
      "cell_type": "markdown",
      "metadata": {
        "id": "view-in-github",
        "colab_type": "text"
      },
      "source": [
        "<a href=\"https://colab.research.google.com/github/Arijit1000/Linear-Algebra-Implementation/blob/main/Linear_Algebra.ipynb\" target=\"_parent\"><img src=\"https://colab.research.google.com/assets/colab-badge.svg\" alt=\"Open In Colab\"/></a>"
      ]
    },
    {
      "cell_type": "markdown",
      "metadata": {
        "id": "21puvWCpM4zU"
      },
      "source": [
        "**Implementation of Linear algebra**"
      ]
    },
    {
      "cell_type": "code",
      "metadata": {
        "colab": {
          "base_uri": "https://localhost:8080/"
        },
        "id": "iJgISZ1sNF8F",
        "outputId": "55356ace-9bb9-42c7-e680-bfc1df7819de"
      },
      "source": [
        "# create array\n",
        "from numpy import array\n",
        "# create array\n",
        "l = [1.0, 2.0, 3.0]\n",
        "a = array(l)\n",
        "# display array\n",
        "print(a)\n",
        "# display array shape\n",
        "print(a.shape)\n",
        "# display array data type\n",
        "print(a.dtype)"
      ],
      "execution_count": null,
      "outputs": [
        {
          "output_type": "stream",
          "text": [
            "[1. 2. 3.]\n",
            "(3,)\n",
            "float64\n"
          ],
          "name": "stdout"
        }
      ]
    },
    {
      "cell_type": "markdown",
      "metadata": {
        "id": "LNLARRWZUaZB"
      },
      "source": [
        "**One-Dimensional List to Array**"
      ]
    },
    {
      "cell_type": "code",
      "metadata": {
        "id": "6q2GGgI9Ufgp"
      },
      "source": [
        "# create one-dimensional array\n",
        "from numpy import array\n",
        "# list of data\n",
        "data = [11, 22, 33, 44, 55]\n",
        "# array of data\n",
        "data = array(data)\n",
        "print(data)\n",
        "print(type(data))"
      ],
      "execution_count": null,
      "outputs": []
    },
    {
      "cell_type": "markdown",
      "metadata": {
        "id": "d_TBe99VVy0q"
      },
      "source": [
        "**Array Slicing**"
      ]
    },
    {
      "cell_type": "code",
      "metadata": {
        "colab": {
          "base_uri": "https://localhost:8080/"
        },
        "id": "GY0t1i3FV3yd",
        "outputId": "4cb7179f-751c-4ddc-d0c1-e4ff8f8079ae"
      },
      "source": [
        "# split input and output data\n",
        "from numpy import array\n",
        "# define array\n",
        "data = array([\n",
        "[11, 22, 33],\n",
        "[44, 55, 66],\n",
        "[77, 88, 99]])\n",
        "# separate data\n",
        "X, y = data[:, :-1], data[:, -1]\n",
        "print(X)\n",
        "print(y)"
      ],
      "execution_count": null,
      "outputs": [
        {
          "output_type": "stream",
          "text": [
            "[[11 22]\n",
            " [44 55]\n",
            " [77 88]]\n",
            "[33 66 99]\n"
          ],
          "name": "stdout"
        }
      ]
    },
    {
      "cell_type": "markdown",
      "metadata": {
        "id": "A0LLuzlids57"
      },
      "source": [
        "**Reshape : It is common to need to reshape two-dimensional data where each row represents a sequence\n",
        "into a three-dimensional array for algorithms that expect multiple samples of one or more time\n",
        "steps and one or more features. A good example is the LSTM recurrent neural network model**"
      ]
    },
    {
      "cell_type": "code",
      "metadata": {
        "colab": {
          "base_uri": "https://localhost:8080/"
        },
        "id": "G5WV6n5peK6Y",
        "outputId": "6810b6a8-27e7-400c-d14e-d65c0de5f4d2"
      },
      "source": [
        "# reshape 2D array to 3D\n",
        "from numpy import array\n",
        "# list of data\n",
        "data = [[11, 22],\n",
        "[33, 44],\n",
        "[55, 66]]\n",
        "# array of data\n",
        "data = array(data)\n",
        "print(data.shape)\n",
        "# reshape\n",
        "data = data.reshape((data.shape[0], data.shape[1], 1))\n",
        "print(data.shape)\n",
        "print(data)"
      ],
      "execution_count": null,
      "outputs": [
        {
          "output_type": "stream",
          "text": [
            "(3, 2)\n",
            "(3, 2, 1)\n",
            "[[[11]\n",
            "  [22]]\n",
            "\n",
            " [[33]\n",
            "  [44]]\n",
            "\n",
            " [[55]\n",
            "  [66]]]\n"
          ],
          "name": "stdout"
        }
      ]
    },
    {
      "cell_type": "markdown",
      "metadata": {
        "id": "mF_QOpG8gSO7"
      },
      "source": [
        "**Array Broadcasting**"
      ]
    },
    {
      "cell_type": "markdown",
      "metadata": {
        "id": "RurL4nj8gVP1"
      },
      "source": [
        "**Broadcasting solves the problem of arithmetic between arrays\n",
        "of different shapes.                                                                                                             \n",
        "Addition of matrix and a vector, yielding another matrix: C = A+b, where\n",
        "Ci,j = Ai,j + bj .**"
      ]
    },
    {
      "cell_type": "code",
      "metadata": {
        "colab": {
          "base_uri": "https://localhost:8080/"
        },
        "id": "RYuE8KEqhig_",
        "outputId": "c9dc80d7-bd42-4521-8151-6649df8f4a6e"
      },
      "source": [
        "# broadcast scalar to one-dimensional array\n",
        "from numpy import array\n",
        "# define array\n",
        "a = array([1, 2, 3])\n",
        "print(a)\n",
        "# define scalar\n",
        "b = 2\n",
        "print(b)\n",
        "# broadcast\n",
        "c = a + b\n",
        "print(c)"
      ],
      "execution_count": null,
      "outputs": [
        {
          "output_type": "stream",
          "text": [
            "[1 2 3]\n",
            "2\n",
            "[3 4 5]\n"
          ],
          "name": "stdout"
        }
      ]
    },
    {
      "cell_type": "code",
      "metadata": {
        "id": "CH5Ha4RulB2j"
      },
      "source": [
        "# broadcasting error\n",
        "from numpy import array\n",
        "# define two-dimensional array\n",
        "A = array([\n",
        "[1, 2, 3],\n",
        "[1, 2, 3]])\n",
        "print(A.shape)\n",
        "# define one-dimensional array\n",
        "b = array([1, 2])\n",
        "print(b.shape)\n",
        "# attempt broadcast\n",
        "C = A + b\n",
        "print(C)"
      ],
      "execution_count": null,
      "outputs": []
    },
    {
      "cell_type": "markdown",
      "metadata": {
        "id": "fKMdgMd-m9Mq"
      },
      "source": [
        "**VECTOR and VECTOR Operation**"
      ]
    },
    {
      "cell_type": "code",
      "metadata": {
        "colab": {
          "base_uri": "https://localhost:8080/"
        },
        "id": "WGRF-aW4nFzP",
        "outputId": "c6bb0e5b-d225-4ffa-e0e7-b0498a7cd01a"
      },
      "source": [
        "# vector multiplication\n",
        "from numpy import array\n",
        "# define first vector\n",
        "a = array([1, 2, 3])\n",
        "print(a)\n",
        "# define second vector\n",
        "b = array([1, 2, 3])\n",
        "print(b)\n",
        "# multiply vectors\n",
        "c = a * b\n",
        "print(c)"
      ],
      "execution_count": null,
      "outputs": [
        {
          "output_type": "stream",
          "text": [
            "[1 2 3]\n",
            "[1 2 3]\n",
            "[1 4 9]\n"
          ],
          "name": "stdout"
        }
      ]
    },
    {
      "cell_type": "markdown",
      "metadata": {
        "id": "UW-hyegjnkHW"
      },
      "source": [
        "**Vector Dot Product**"
      ]
    },
    {
      "cell_type": "markdown",
      "metadata": {
        "id": "UaMAfhhfnx3G"
      },
      "source": [
        "**c = a.b\n",
        "The operation can be used in machine learning to calculate the weighted sum of a vector.\n",
        "The dot product is calculated as follows:\n",
        "c = (a1 . b1 + a2 . b2 + a3 . b3)\n",
        "or\n",
        "c = (a1b1 + a2b2 + a3b3)**"
      ]
    },
    {
      "cell_type": "code",
      "metadata": {
        "colab": {
          "base_uri": "https://localhost:8080/"
        },
        "id": "Ik9RxMlSnmaB",
        "outputId": "c8b8c9a4-0a97-480b-96ee-2798acbf9251"
      },
      "source": [
        "from numpy import array\n",
        "import numpy as np\n",
        "# define first vector\n",
        "a = array([1, 2, 3])\n",
        "print(a)\n",
        "# define second vector\n",
        "b = array([1, 2, 3])\n",
        "print(b)\n",
        "# multiply vectors\n",
        "c = a.dot(b)\n",
        "print(\"result: \",np.dot(a,b))\n",
        "print(c)"
      ],
      "execution_count": null,
      "outputs": [
        {
          "output_type": "stream",
          "text": [
            "[1 2 3]\n",
            "[1 2 3]\n",
            "result:  14\n",
            "14\n"
          ],
          "name": "stdout"
        }
      ]
    },
    {
      "cell_type": "markdown",
      "metadata": {
        "id": "c-9rYA9-p3-c"
      },
      "source": [
        "**Vector Norms**"
      ]
    },
    {
      "cell_type": "markdown",
      "metadata": {
        "id": "WGDW8ankqnQi"
      },
      "source": [
        "**Calculating the length or magnitude of vectors is often required either directly as a regularization\n",
        "method in machine learning, or as part of broader vector or matrix operations.**"
      ]
    },
    {
      "cell_type": "markdown",
      "metadata": {
        "id": "q99NHbKRq9dP"
      },
      "source": [
        "**1. Vector L1 Norm**"
      ]
    },
    {
      "cell_type": "markdown",
      "metadata": {
        "id": "9tXThneNrK3K"
      },
      "source": [
        "**sum of the absolute vector values, where the absolute value\n",
        "of a scalar uses the notation |a1|. It is the calculation of the Manhattan distance from the origin of the vector space.\n",
        "||v||1 = |a1| + |a2| + |a3|**"
      ]
    },
    {
      "cell_type": "code",
      "metadata": {
        "colab": {
          "base_uri": "https://localhost:8080/"
        },
        "id": "7JfxOs75qsn1",
        "outputId": "28650744-962b-481f-91bd-f197a8e1f182"
      },
      "source": [
        "# vector L1 norm\n",
        "from numpy import array\n",
        "from numpy.linalg import norm\n",
        "# define vector\n",
        "a = array([1, 2, 3])\n",
        "print(a)\n",
        "# calculate norm\n",
        "l1 = norm(a, 1)\n",
        "print(l1)"
      ],
      "execution_count": null,
      "outputs": [
        {
          "output_type": "stream",
          "text": [
            "[1 2 3]\n",
            "6.0\n"
          ],
          "name": "stdout"
        }
      ]
    },
    {
      "cell_type": "markdown",
      "metadata": {
        "id": "J2R9CXCRtR9d"
      },
      "source": [
        "**2. Vector L2 Norm**"
      ]
    },
    {
      "cell_type": "markdown",
      "metadata": {
        "id": "IQE1PwyqtUA8"
      },
      "source": [
        "**it is also known as the Euclidean norm as it is calculated as the Euclidean\n",
        "distance from the origin. The result is a positive distance value. The L2 norm is calculated as\n",
        "the square root of the sum of the squared vector values.**"
      ]
    },
    {
      "cell_type": "code",
      "metadata": {
        "colab": {
          "base_uri": "https://localhost:8080/"
        },
        "id": "k2bkSLu0tlzN",
        "outputId": "6cb2304e-9752-4030-cdc5-71a867a41e51"
      },
      "source": [
        "# vector L2 norm\n",
        "from numpy import array\n",
        "from numpy.linalg import norm\n",
        "# define vector\n",
        "a = array([1, 2, 3])\n",
        "print(a)\n",
        "# calculate norm\n",
        "l2 = norm(a)\n",
        "print(l2)"
      ],
      "execution_count": null,
      "outputs": [
        {
          "output_type": "stream",
          "text": [
            "[1 2 3]\n",
            "3.7416573867739413\n"
          ],
          "name": "stdout"
        }
      ]
    },
    {
      "cell_type": "markdown",
      "metadata": {
        "id": "sbraQ35zu1Zh"
      },
      "source": [
        "**3. Vector Max Norm**"
      ]
    },
    {
      "cell_type": "markdown",
      "metadata": {
        "id": "WkvzeNbmu4gH"
      },
      "source": [
        "**The max norm is calculated as returning the maximum value of the vector, hence the name.**"
      ]
    },
    {
      "cell_type": "markdown",
      "metadata": {
        "id": "mLn9oRd_vo8u"
      },
      "source": [
        "**Max norm is also used as a regularization in machine learning, such as on neural network\n",
        "weights, called max norm regularization.**"
      ]
    },
    {
      "cell_type": "code",
      "metadata": {
        "colab": {
          "base_uri": "https://localhost:8080/"
        },
        "id": "RhJaawmEvH0N",
        "outputId": "949335cb-7411-433d-ec82-56f590743098"
      },
      "source": [
        "# vector max norm\n",
        "from math import inf\n",
        "from numpy import array\n",
        "from numpy.linalg import norm\n",
        "# define vector\n",
        "a = array([1, 2, 3])\n",
        "print(a)\n",
        "# calculate norm\n",
        "maxnorm = norm(a, inf)\n",
        "print(maxnorm)"
      ],
      "execution_count": null,
      "outputs": [
        {
          "output_type": "stream",
          "text": [
            "[1 2 3]\n",
            "3.0\n"
          ],
          "name": "stdout"
        }
      ]
    },
    {
      "cell_type": "markdown",
      "metadata": {
        "id": "Q3KFXqaBRN33"
      },
      "source": [
        "**Vectorization**"
      ]
    },
    {
      "cell_type": "code",
      "metadata": {
        "colab": {
          "base_uri": "https://localhost:8080/"
        },
        "id": "HDtJWtnFSbtO",
        "outputId": "61dc6d4c-1652-4348-ff58-3fcca0791f2e"
      },
      "source": [
        "import numpy as np\n",
        "import time\n",
        "a=np.random.randn(1000000)\n",
        "b=np.random.randn(1000000)\n",
        "start=time.time()\n",
        "c=0\n",
        "for i in range(1000000):\n",
        "  c+=a[i]*b[i]\n",
        "end=time.time()\n",
        "print(\"Non-Vectorized computation time:\"+str(1000*(end-start))+\" ms\")\n",
        "print(c)"
      ],
      "execution_count": null,
      "outputs": [
        {
          "output_type": "stream",
          "text": [
            "Non-Vectorized computation time:624.6626377105713 ms\n",
            "-816.61348648878\n"
          ],
          "name": "stdout"
        }
      ]
    },
    {
      "cell_type": "code",
      "metadata": {
        "colab": {
          "base_uri": "https://localhost:8080/"
        },
        "id": "xSPEVIO-RSBJ",
        "outputId": "2cd21734-50c7-4030-edd3-1dac793aa899"
      },
      "source": [
        "start=time.time()\n",
        "c=np.dot(a,b)\n",
        "end=time.time()\n",
        "print(\"Vectorized computation time:\"+str(1000*(end-start))+\" ms\")\n",
        "print(c)"
      ],
      "execution_count": null,
      "outputs": [
        {
          "output_type": "stream",
          "text": [
            "Vectorized computation time:9.254693984985352 ms\n",
            "-816.61348648884\n"
          ],
          "name": "stdout"
        }
      ]
    },
    {
      "cell_type": "markdown",
      "metadata": {
        "id": "luLzwnlWzQQ1"
      },
      "source": [
        "**Matrix Operations**"
      ]
    },
    {
      "cell_type": "markdown",
      "metadata": {
        "id": "Ofpn_n1ozlL6"
      },
      "source": [
        "**1. Addition  2. Subtraction   3. Matrix Multiplication (Hadamard Product)(LSTM, RNN)4. Division  5. Dot Product(inner product or scalar product)**"
      ]
    },
    {
      "cell_type": "code",
      "metadata": {
        "colab": {
          "base_uri": "https://localhost:8080/"
        },
        "id": "on48e4iW02oV",
        "outputId": "419ca9a1-860e-4b16-eebb-87a70b3a0a5b"
      },
      "source": [
        "# matrix dot product\n",
        "from numpy import array\n",
        "# define first matrix\n",
        "A = array([\n",
        "[1, 2],\n",
        "[3, 4],\n",
        "[5, 6]])\n",
        "print(A)\n",
        "# define second matrix\n",
        "B = array([\n",
        "[1, 2],\n",
        "[3, 4]])\n",
        "print(B)\n",
        "# multiply matrices\n",
        "C = A.dot(B)\n",
        "print(C)\n",
        "# multiply matrices with @ operator\n",
        "D = A @ B\n",
        "print(D)\n",
        "np.dot(A,B)"
      ],
      "execution_count": null,
      "outputs": [
        {
          "output_type": "stream",
          "text": [
            "[[1 2]\n",
            " [3 4]\n",
            " [5 6]]\n",
            "[[1 2]\n",
            " [3 4]]\n",
            "[[ 7 10]\n",
            " [15 22]\n",
            " [23 34]]\n",
            "[[ 7 10]\n",
            " [15 22]\n",
            " [23 34]]\n"
          ],
          "name": "stdout"
        }
      ]
    },
    {
      "cell_type": "markdown",
      "metadata": {
        "id": "VkRFhozI3GWz"
      },
      "source": [
        "**Matrix - Scaler  or Matrix - Vector Operation**\n",
        "\n",
        "\n",
        "\n",
        "![image.png](data:image/png;base64,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)"
      ]
    },
    {
      "cell_type": "code",
      "metadata": {
        "id": "4c1QAoqN3TLs",
        "colab": {
          "base_uri": "https://localhost:8080/"
        },
        "outputId": "689b569a-6175-4127-9bf3-71f0639c663d"
      },
      "source": [
        "# matrix-vector multiplication\n",
        "from numpy import array\n",
        "# define matrix\n",
        "A = array([\n",
        "[1, 2],\n",
        "[3, 4],\n",
        "[5, 6]])\n",
        "print(A.shape)\n",
        "# define vector\n",
        "B = array([[0.5, 0.5]])\n",
        "print(B.shape)\n",
        "# multiply\n",
        "C = A.dot(B.T)\n",
        "print(C)\n"
      ],
      "execution_count": null,
      "outputs": [
        {
          "output_type": "stream",
          "text": [
            "(3, 2)\n",
            "(1, 2)\n",
            "[[1.5]\n",
            " [3.5]\n",
            " [5.5]]\n"
          ],
          "name": "stdout"
        }
      ]
    },
    {
      "cell_type": "markdown",
      "metadata": {
        "id": "ytEkmfcB4xpP"
      },
      "source": [
        "**Matrix Types:  \n",
        "1.Square Matrix  \n",
        "2.Symmetric Matrix     M = M^T                                    \n",
        "3.Triangular Matrix                                   \n",
        "4.Diagonal Matrix                 \n",
        "5.Identity Matrix                  \n",
        "6.Orthogonal Matrix**"
      ]
    },
    {
      "cell_type": "markdown",
      "metadata": {
        "id": "WsIL5NAFF9oP"
      },
      "source": [
        "**Transpose  \n",
        "A defined matrix can be transposed, which creates a new matrix with the number of columns and rows flipped.  \n",
        "This is denoted by the superscript T next to the matrix A^T .  \n",
        "C = A^T  \n",
        "Plays an important role in estimating variance and covariances in regression**"
      ]
    },
    {
      "cell_type": "code",
      "metadata": {
        "colab": {
          "base_uri": "https://localhost:8080/"
        },
        "id": "Og75Hz3vGn6S",
        "outputId": "eeda95c1-6df8-414c-e660-c9808211dd49"
      },
      "source": [
        "# transpose matrix\n",
        "from numpy import array\n",
        "# define matrix\n",
        "A = array([\n",
        "[1, 2],\n",
        "[3, 4],\n",
        "[5, 6]])\n",
        "print(A)\n",
        "# calculate transpose\n",
        "C = A.T\n",
        "print(C)"
      ],
      "execution_count": null,
      "outputs": [
        {
          "output_type": "stream",
          "text": [
            "[[1 2]\n",
            " [3 4]\n",
            " [5 6]]\n",
            "[[1 3 5]\n",
            " [2 4 6]]\n"
          ],
          "name": "stdout"
        }
      ]
    },
    {
      "cell_type": "markdown",
      "metadata": {
        "id": "c_Q3rVE8MJ7y"
      },
      "source": [
        "**Inverse**"
      ]
    },
    {
      "cell_type": "markdown",
      "metadata": {
        "id": "UAInQ9q5MeHB"
      },
      "source": [
        "**Matrix inversion is a process that finds another matrix that when multiplied with the matrix,results in an identity matrix.  \n",
        "Given a matrix A, and matrix B, such that AB = I^n or BA = I^n.  \n",
        "AB = BA = I^n  \n",
        "The operation of inverting a matrix is indicated by a -1 superscript next to the matrix; for example, A^-1. The result of the operation is referred to as the inverse of the original matrix;\n",
        "for example, B is the inverse of A.  \n",
        "B = A^-1  \n",
        "If a matrix works on a set of vectors by rotating & scaling the vectors, then the matrix inverse will undo the rotation & scaling and return the original vector**  \n"
      ]
    },
    {
      "cell_type": "code",
      "metadata": {
        "id": "V5ShC6svODy9",
        "colab": {
          "base_uri": "https://localhost:8080/"
        },
        "outputId": "345ad799-e53a-4880-f5df-505d178a83a5"
      },
      "source": [
        "# invert matrix\n",
        "from numpy import array\n",
        "from numpy.linalg import inv\n",
        "# define matrix\n",
        "A = array([\n",
        "[1.0, 2.0],\n",
        "[3.0, 4.0]])\n",
        "print(A)\n",
        "# invert matrix\n",
        "B = inv(A)\n",
        "print(B)\n",
        "# multiply A and B\n",
        "I = A.dot(B)\n",
        "print(I)"
      ],
      "execution_count": null,
      "outputs": [
        {
          "output_type": "stream",
          "text": [
            "[[1. 2.]\n",
            " [3. 4.]]\n",
            "[[-2.   1. ]\n",
            " [ 1.5 -0.5]]\n",
            "[[1.0000000e+00 0.0000000e+00]\n",
            " [8.8817842e-16 1.0000000e+00]]\n"
          ],
          "name": "stdout"
        }
      ]
    },
    {
      "cell_type": "code",
      "metadata": {
        "id": "kSNpgQ4n9WN-"
      },
      "source": [
        "# triangular matrices\n",
        "from numpy import array\n",
        "from numpy import tril\n",
        "from numpy import triu\n",
        "# define square matrix\n",
        "M = array([\n",
        "[1, 2, 3],\n",
        "[1, 2, 3],\n",
        "[1, 2, 3]])\n",
        "print(M)\n",
        "# lower triangular matrix\n",
        "lower = tril(M)\n",
        "print(lower)\n",
        "# upper triangular matrix\n",
        "upper = triu(M)\n",
        "print(upper)"
      ],
      "execution_count": null,
      "outputs": []
    },
    {
      "cell_type": "markdown",
      "metadata": {
        "id": "TH8bVT4n2xgR"
      },
      "source": [
        "**Diagonal matrix**\n",
        "\n",
        "![image.png](data:image/png;base64,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)"
      ]
    },
    {
      "cell_type": "code",
      "metadata": {
        "id": "pp-SEFxi-SZa",
        "colab": {
          "base_uri": "https://localhost:8080/"
        },
        "outputId": "6accc36c-8cae-480a-b7e6-b0f515589aa9"
      },
      "source": [
        "# diagonal matrix\n",
        "from numpy import array\n",
        "from numpy import diag\n",
        "# define square matrix\n",
        "M = array([\n",
        "[1, 2, 3],\n",
        "[1, 2, 3],\n",
        "[1, 2, 3]])\n",
        "print(M)\n",
        "# extract diagonal vector\n",
        "d = diag(M)\n",
        "print(d)\n",
        "# create diagonal matrix from vector\n",
        "D = diag(d)\n",
        "print(D)"
      ],
      "execution_count": null,
      "outputs": [
        {
          "output_type": "stream",
          "text": [
            "[[1 2 3]\n",
            " [1 2 3]\n",
            " [1 2 3]]\n",
            "[1 2 3]\n",
            "[[1 0 0]\n",
            " [0 2 0]\n",
            " [0 0 3]]\n"
          ],
          "name": "stdout"
        }
      ]
    },
    {
      "cell_type": "markdown",
      "metadata": {
        "id": "BIujswOo-2CM"
      },
      "source": [
        "**Identity Matrix  \n",
        "An identity matrix is a square matrix that does not change a vector when multiplied.**"
      ]
    },
    {
      "cell_type": "code",
      "metadata": {
        "id": "stQOtxVC_FTo",
        "colab": {
          "base_uri": "https://localhost:8080/"
        },
        "outputId": "99870dfd-17d6-4be3-9d57-f788d84b9f8b"
      },
      "source": [
        "# identity matrix\n",
        "from numpy import identity\n",
        "I = identity(3)\n",
        "print(I)"
      ],
      "execution_count": null,
      "outputs": [
        {
          "output_type": "stream",
          "text": [
            "[[1. 0. 0.]\n",
            " [0. 1. 0.]\n",
            " [0. 0. 1.]]\n"
          ],
          "name": "stdout"
        }
      ]
    },
    {
      "cell_type": "markdown",
      "metadata": {
        "id": "EhG9mHFrAJlE"
      },
      "source": [
        "**Orthogonal Matrix**  \n",
        "Two vectors are orthogonal when their dot product equals zero.If The length of each vector is 1 then the vectors are called **orthonormal** because they are both orthogonal and normalized.  \n",
        "\n",
        "v . w = 0  \n",
        "or  \n",
        "v . wT = 0    \n",
        "This is intuitive when we consider that one line is orthogonal with another if it is **perpendicular** to it. \n",
        "\n",
        "An orthogonal matrix is a type of square matrix whose columns and rows are orthonormal unit vectors, e.g. perpendicular and have a length or magnitude of 1.\n",
        "\n",
        "An orthogonal matrix is a square matrix whose rows are mutually orthonormal and whose columns are mutually orthonormal.\n",
        "\n",
        "An Orthogonal matrix is often denoted as uppercase Q.\n",
        "Multiplication by an orthogonal matrix preserves lengths.\n",
        "\n",
        "The Orthogonal matrix is defined formally as follows:\n",
        "QT . Q = Q . QT = I \n",
        "\n",
        "**A matrix is orthogonal if its transpose is equal to its inverse.\n",
        "Q(T) = Q(-1)**\n",
        "\n",
        "Orthogonal matrices are used a lot for linear transformations, such as **reflections and permutations**."
      ]
    },
    {
      "cell_type": "code",
      "metadata": {
        "id": "LMWnZrY-Bo3j",
        "colab": {
          "base_uri": "https://localhost:8080/"
        },
        "outputId": "2063f7cf-1527-4709-8ae8-115a94dc4aa5"
      },
      "source": [
        "# orthogonal matrix\n",
        "from numpy import array\n",
        "from numpy.linalg import inv\n",
        "# define orthogonal matrix\n",
        "Q = array([\n",
        "[1, 0],\n",
        "[0, -1]])\n",
        "print(Q)\n",
        "# inverse equivalence\n",
        "V = inv(Q)\n",
        "print(Q.T)\n",
        "print(V)\n",
        "# identity equivalence\n",
        "I = Q.dot(Q.T)\n",
        "print(I)"
      ],
      "execution_count": null,
      "outputs": [
        {
          "output_type": "stream",
          "text": [
            "[[ 1  0]\n",
            " [ 0 -1]]\n",
            "[[ 1  0]\n",
            " [ 0 -1]]\n",
            "[[ 1.  0.]\n",
            " [-0. -1.]]\n",
            "[[1 0]\n",
            " [0 1]]\n"
          ],
          "name": "stdout"
        }
      ]
    },
    {
      "cell_type": "markdown",
      "metadata": {
        "id": "YxhcIhPV6GO2"
      },
      "source": [
        "**Matrix Operation**\n",
        "1. Transpose\n",
        "2. Inverse\n",
        "3. Trace\n",
        "4. Determinant\n",
        "5. Rank"
      ]
    },
    {
      "cell_type": "markdown",
      "metadata": {
        "id": "xTFjIvaH6rnK"
      },
      "source": [
        "**Trace**\n",
        "\n",
        "\n",
        "The trace operator gives the sum of all of the diagonal entries of a matrix\n",
        "\n",
        "for example, in the case of a 3 * 3 matrix A:\n",
        "\n",
        "tr(A) = a(1,1) + a(2,2) + a(3,3)  \n",
        "or  \n",
        "tr(A) = A[0, 0] + A[1, 1] + A[2, 2]   \n",
        "We can calculate the trace of a matrix in NumPy using the trace() function."
      ]
    },
    {
      "cell_type": "code",
      "metadata": {
        "colab": {
          "base_uri": "https://localhost:8080/"
        },
        "id": "yTuZhyQl7oPR",
        "outputId": "a6c8597c-79dc-4e0d-f51f-137dfbfa8d05"
      },
      "source": [
        "# matrix trace\n",
        "from numpy import array\n",
        "from numpy import trace\n",
        "# define matrix\n",
        "A = array([\n",
        "[1, 2, 3],\n",
        "[4, 5, 6],\n",
        "[7, 8, 9]])\n",
        "print(A)\n",
        "# calculate trace\n",
        "B = trace(A)\n",
        "print(B)"
      ],
      "execution_count": null,
      "outputs": [
        {
          "output_type": "stream",
          "text": [
            "[[1 2 3]\n",
            " [4 5 6]\n",
            " [7 8 9]]\n",
            "15\n"
          ],
          "name": "stdout"
        }
      ]
    },
    {
      "cell_type": "markdown",
      "metadata": {
        "id": "Bx1ey21o8b-k"
      },
      "source": [
        "**Determinant**  \n",
        "The determinant of a square matrix is a scalar representation of the volume of the matrix.  \n",
        "The determinant describes the relative geometry of the vectors that make up the rows of the matrix. More specifically, the determinant of a matrix A tells you the volume of a box with sides given by rows of A.  \n",
        "\n",
        "It is denoted by the det(A) , where A is the matrix on which we are calculating the determinant.  \n",
        "\n",
        "The determinant is the product of all the eigenvalues of the matrix. Eigenvalues are introduced in the lessons on matrix factorization.  \n",
        "\n",
        "The intuition for the determinant is that it describes the way a matrix will scale another matrix when they are multiplied together.\n",
        "\n",
        "For example, a determinant of 1 preserves the space of the other matrix. A determinant of 0 indicates that the matrix cannot be inverted.\n",
        "\n",
        "In NumPy, the determinant of a matrix can be calculated using the det() function."
      ]
    },
    {
      "cell_type": "code",
      "metadata": {
        "id": "hXxPeymR90iV"
      },
      "source": [
        "# matrix determinant\n",
        "from numpy import array\n",
        "from numpy.linalg import det\n",
        "# define matrix\n",
        "A = array([\n",
        "[1, 2, 3],\n",
        "[4, 5, 6],\n",
        "[7, 8, 9]])\n",
        "print(A)\n",
        "# calculate determinant\n",
        "B = det(A)\n",
        "print(B)"
      ],
      "execution_count": null,
      "outputs": []
    },
    {
      "cell_type": "markdown",
      "metadata": {
        "id": "69fE3zYP-WzZ"
      },
      "source": [
        "**Rank**  \n",
        "The rank of a matrix is the estimate of the number of **linearly independent rows or columns** in a matrix.  \n",
        "The rank of a matrix A is often denoted as the function rank().\n",
        "rank(A)\n",
        "\n",
        "rank of 0 suggest all vectors span a point, a rank of 1 suggests\n",
        "all vectors span a line, a rank of 2 suggests all vectors span a two-dimensional plane.\n",
        "\n",
        "The rank\n",
        "is estimated numerically, often using a **matrix decomposition method**. A common approach is to use the **Singular-Value Decomposition or SVD** for short."
      ]
    },
    {
      "cell_type": "code",
      "metadata": {
        "colab": {
          "base_uri": "https://localhost:8080/"
        },
        "id": "wGW-_iSx_stn",
        "outputId": "5a117845-f9ad-4635-902d-a6ff317c2dda"
      },
      "source": [
        "# matrix rank\n",
        "from numpy import array\n",
        "from numpy.linalg import matrix_rank\n",
        "# rank 0\n",
        "M0 = array([\n",
        "[0,0],\n",
        "[0,0]])\n",
        "print(M0)\n",
        "mr0 = matrix_rank(M0)\n",
        "print(mr0)\n",
        "# rank 1\n",
        "M1 = array([\n",
        "[1,2],\n",
        "[1,2]])\n",
        "print(M1)\n",
        "mr1 = matrix_rank(M1)\n",
        "print(mr1)\n",
        "# rank 2\n",
        "M2 = array([\n",
        "[1,2],\n",
        "[3,4]])\n",
        "print(M2)\n",
        "mr2 = matrix_rank(M2)\n",
        "print(mr2)"
      ],
      "execution_count": null,
      "outputs": [
        {
          "output_type": "stream",
          "text": [
            "[[0 0]\n",
            " [0 0]]\n",
            "0\n",
            "[[1 2]\n",
            " [1 2]]\n",
            "1\n",
            "[[1 2]\n",
            " [3 4]]\n",
            "2\n"
          ],
          "name": "stdout"
        }
      ]
    },
    {
      "cell_type": "markdown",
      "metadata": {
        "id": "Nmba9DycB4DR"
      },
      "source": [
        "**Sparse Matrix**  \n",
        "\n",
        "A matrix is sparse if many of its coefficients are zero. \n",
        "\n",
        "The interest in sparsity arises\n",
        "because its exploitation can lead to enormous computational savings and because many large matrix problems that occur in practice are sparse.\n",
        "\n",
        "**sparsity = count of non-zero elements / total elements**  \n",
        "\n",
        "![image.png](data:image/png;base64,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)\n",
        "\n",
        "The example has 13 zero values of the 18 elements in the matrix, giving this matrix a sparsity\n",
        "score of 0.722 or about 72%."
      ]
    },
    {
      "cell_type": "markdown",
      "metadata": {
        "id": "TxN19ysxF1JE"
      },
      "source": [
        "**Sparse Matrices in Machine Learning**  \n",
        "**Data**\n",
        "1. Whether or not a user has watched a movie in a movie catalog.\n",
        "2. Whether or not a user has purchased a product in a product catalog.\n",
        "\n",
        "**Data Preparation**\n",
        "1. One hot encoding, used to represent categorical data as sparse binary vectors.\n",
        "2. TF-IDF encoding, used to represent normalized word frequency scores in a vocabulary.\n",
        "\n",
        "**Areas of Study**\n",
        "1. Natural language processing for working with documents of text.\n",
        "2. Recommender systems for working with product usage within a catalog.\n",
        "3. Computer vision when working with images that contain lots of black pixels.\n",
        "\n",
        "If there are 100,000 words in the language model, then the feature vector has length\n",
        "100,000, but for a short email message almost all the features will have count zero."
      ]
    },
    {
      "cell_type": "markdown",
      "metadata": {
        "id": "-VwgjMh6GYvh"
      },
      "source": [
        "**Working with Sparse Matrices**  \n",
        "1. Dictionary of Keys. A dictionary is used where a row and column index is mapped to a value.  \n",
        "2. List of Lists. Each row of the matrix is stored as a list, with each sublist containing the column index and the value.  \n",
        "3. Coordinate List. A list of tuples is stored with each tuple containing the row index, column index, and the value.  \n",
        "There are also data structures that are more suitable for performing efficient operations; two commonly used examples are listed below.\n",
        "\n",
        "1.Compressed Sparse Row. The sparse matrix is represented using three one-dimensional arrays for the non-zero values, the extents of the rows, and the column indexes.\n",
        "2. Compressed Sparse Column. The same as the Compressed Sparse Row method except the column indices are compressed and read first before the row indices.\n",
        "\n",
        "The Compressed Sparse Row, also called CSR for short, is often used to represent sparse matrices in machine learning given the e\u000ecient access and matrix multiplication that it supports."
      ]
    },
    {
      "cell_type": "code",
      "metadata": {
        "colab": {
          "base_uri": "https://localhost:8080/"
        },
        "id": "Cvh2cLMsGFsl",
        "outputId": "e8baea80-f5fe-4489-9ab2-a061b7241d86"
      },
      "source": [
        "# sparse matrix\n",
        "from numpy import array\n",
        "from scipy.sparse import csr_matrix\n",
        "# create dense matrix\n",
        "A = array([\n",
        "[1, 0, 0, 1, 0, 0],\n",
        "[0, 0, 2, 0, 0, 1],\n",
        "[0, 0, 0, 2, 0, 0]])\n",
        "print(A)\n",
        "# convert to sparse matrix (CSR method)\n",
        "S = csr_matrix(A)\n",
        "print(type(S))\n",
        "print(S)\n",
        "# reconstruct dense matrix\n",
        "B = S.todense()\n",
        "print(B)"
      ],
      "execution_count": null,
      "outputs": [
        {
          "output_type": "stream",
          "text": [
            "[[1 0 0 1 0 0]\n",
            " [0 0 2 0 0 1]\n",
            " [0 0 0 2 0 0]]\n",
            "<class 'scipy.sparse.csr.csr_matrix'>\n",
            "  (0, 0)\t1\n",
            "  (0, 3)\t1\n",
            "  (1, 2)\t2\n",
            "  (1, 5)\t1\n",
            "  (2, 3)\t2\n",
            "[[1 0 0 1 0 0]\n",
            " [0 0 2 0 0 1]\n",
            " [0 0 0 2 0 0]]\n"
          ],
          "name": "stdout"
        }
      ]
    },
    {
      "cell_type": "code",
      "metadata": {
        "id": "Dwi-HdDLFuil"
      },
      "source": [
        "# sparsity calculation\n",
        "from numpy import array\n",
        "from numpy import count_nonzero\n",
        "# create dense matrix\n",
        "A = array([\n",
        "[1, 0, 0, 1, 0, 0],\n",
        "[0, 0, 2, 0, 0, 1],\n",
        "[0, 0, 0, 2, 0, 0]])\n",
        "print(A)\n",
        "# calculate sparsity\n",
        "sparsity = 1.0 - count_nonzero(A) / A.size\n",
        "print(sparsity)"
      ],
      "execution_count": null,
      "outputs": []
    },
    {
      "cell_type": "markdown",
      "metadata": {
        "id": "Ji_4SP0rJIr6"
      },
      "source": [
        "**Tensors and Tensor Arithmetic**"
      ]
    },
    {
      "cell_type": "code",
      "metadata": {
        "id": "H1EpODxzJWfl"
      },
      "source": [
        "# create tensor\n",
        "from numpy import array\n",
        "T = array([\n",
        "[[1,2,3], [4,5,6], [7,8,9]],\n",
        "[[11,12,13], [14,15,16], [17,18,19]],\n",
        "[[21,22,23], [24,25,26], [27,28,29]]])\n",
        "print(T.shape)\n",
        "print(T)"
      ],
      "execution_count": null,
      "outputs": []
    },
    {
      "cell_type": "markdown",
      "metadata": {
        "id": "yU3Y82AxJoSR"
      },
      "source": [
        "**Tensor Arithmetic**"
      ]
    },
    {
      "cell_type": "code",
      "metadata": {
        "id": "65-txh5JJ-xj"
      },
      "source": [
        "# tensor product\n",
        "from numpy import array\n",
        "from numpy import tensordot\n",
        "# define first vector\n",
        "A = array([1,2])\n",
        "# define second vector\n",
        "B = array([3,4])\n",
        "# calculate tensor product\n",
        "C = tensordot(A, B, axes=0)\n",
        "print(C)"
      ],
      "execution_count": null,
      "outputs": []
    },
    {
      "cell_type": "markdown",
      "metadata": {
        "id": "eNz5BFuZKLTL"
      },
      "source": [
        "**Factorization**\n",
        "\n",
        "\n",
        "1.   Matrix Decompositions\n",
        "2.   Eigendecomposition\n",
        "3.   Singular Value Decomposition\n",
        "\n"
      ]
    },
    {
      "cell_type": "markdown",
      "metadata": {
        "id": "f-UYlTnqK5M9"
      },
      "source": [
        "**Matrix Decompositions/factorization**  \n",
        "Matrix decompositions are methods that reduce a matrix into constituent\n",
        "parts that make it easier to calculate more complex matrix operations. \n",
        "\n",
        "Basic operations such as \n",
        "\n",
        "\n",
        "1.   solving systems of linear equations\n",
        "2.   calculating the inverse\n",
        "3.   Calculating the determinant of a matrix  e.t.c."
      ]
    },
    {
      "cell_type": "markdown",
      "metadata": {
        "id": "-njIrGAIeltX"
      },
      "source": [
        "**LU Decomposition**  \n",
        "The LU decomposition is for square matrices and decomposes a matrix into L and U components.  \n",
        "A = L . U\n",
        "Or, without the dot notation.  \n",
        "A = LU  \n",
        "Where A is the square matrix that we wish to decompose, L is the lower triangle matrix and U is the upper triangle matrix.  \n",
        "LU decomposition is often used to simplify the solving of systems of linear equations, such as **finding the coefficients in a linear regression**  \n",
        "\n",
        "\n",
        "LUP decomposition, or the LU decomposition with partial pivoting.\n",
        "A = L . U . P  \n",
        "\n",
        "\n"
      ]
    },
    {
      "cell_type": "code",
      "metadata": {
        "id": "-Fw2gwTdi-n4",
        "colab": {
          "base_uri": "https://localhost:8080/"
        },
        "outputId": "a01bed18-a80e-4fc0-c1b8-d8ed9455dc43"
      },
      "source": [
        "# LU decomposition\n",
        "from numpy import array\n",
        "from scipy.linalg import lu\n",
        "# define a square matrix\n",
        "A = array([\n",
        "[1, 2, 3],\n",
        "[4, 5, 6],\n",
        "[7, 8, 9]])\n",
        "print(A)\n",
        "# factorize\n",
        "P, L, U = lu(A)\n",
        "print(P)\n",
        "print(L)\n",
        "print(U)\n",
        "# reconstruct\n",
        "B = P.dot(L).dot(U)\n",
        "print(B)"
      ],
      "execution_count": null,
      "outputs": [
        {
          "output_type": "stream",
          "text": [
            "[[1 2 3]\n",
            " [4 5 6]\n",
            " [7 8 9]]\n",
            "[[0. 1. 0.]\n",
            " [0. 0. 1.]\n",
            " [1. 0. 0.]]\n",
            "[[1.         0.         0.        ]\n",
            " [0.14285714 1.         0.        ]\n",
            " [0.57142857 0.5        1.        ]]\n",
            "[[7.         8.         9.        ]\n",
            " [0.         0.85714286 1.71428571]\n",
            " [0.         0.         0.        ]]\n",
            "[[1. 2. 3.]\n",
            " [4. 5. 6.]\n",
            " [7. 8. 9.]]\n"
          ],
          "name": "stdout"
        }
      ]
    },
    {
      "cell_type": "markdown",
      "metadata": {
        "id": "_JO69YrVxkgK"
      },
      "source": [
        "**Cholesky Decomposition**  \n",
        "\n",
        "\n",
        "*   Decomposition is for square symmetric matrices where all values are \n",
        "greater than zero.\n",
        "*   A = L . L.T where A : square matrix,L: lower triangular matrix,L.T: transpose of L.\n",
        "*   Similarly A = U.T . U    where U: upper triangular matrix\n",
        "*   is used for solving **linear least squares for linear regression**, as well as simulation and optimization methods.\n",
        "*   When decomposing symmetric matrices, the Cholesky decomposition is nearly twice as efficient as the LU decomposition  \n",
        "\n",
        "\n"
      ]
    },
    {
      "cell_type": "code",
      "metadata": {
        "id": "p0TvcLCy4ANv"
      },
      "source": [
        "# Cholesky decomposition\n",
        "from numpy import array\n",
        "from numpy.linalg import cholesky\n",
        "# define symmetrical matrix\n",
        "A = array([\n",
        "[2, 1, 1],\n",
        "[1, 2, 1],\n",
        "[1, 1, 2]])\n",
        "print(A)\n",
        "# factorize\n",
        "L = cholesky(A)\n",
        "print(L)\n",
        "# reconstruct\n",
        "B = L.dot(L.T)\n",
        "print(B)"
      ],
      "execution_count": null,
      "outputs": []
    },
    {
      "cell_type": "markdown",
      "metadata": {
        "id": "2jvp9GW1Hq_V"
      },
      "source": [
        "**Eigendecomposition**  \n",
        "\n",
        "*   The most used type of matrix decomposition is the eigendecomposition that decomposes a square matrix into eigenvectors and eigenvalues.\n",
        "*   This decomposition plays an important role in methods used in machine learning, such as in the Principal Component Analysis method or PCA.  \n",
        "\n",
        "A vector is an **eigenvector** of a matrix if it satisfies the following equation (change of vector (scale up ) without rotation).  \n",
        "![image.png](data:image/png;base64,iVBORw0KGgoAAAANSUhEUgAAAGoAAAAfCAYAAAAPzljlAAAEkklEQVRoBe2Y30tbZxjH3z8gN156MSgEoRe5kbKLyS70wlIQahmMoYWgwrAFwVbB4RhWNFO2SLeTGx0YXMM6Y/EQRm5kNIx2UEdxeIbmQtsF4maYLWJDDGp+nM9IYjRqfp1Ud5pxAoeTk/d9n+d9v5/nfZ43R2B8qkIBURWzNCaJAapKgsAAZYCqEgWqZJrGjvp/g1KJhxR+C+xWyTKrf5qV7aiYH2erhVbXC9Tq1+DECtSdP3APXOeDWz+wGkmcaNPzoQJQMTbl29QIgdm+RFzP2V+U77CPgdpL3HCtk7woHxrtagalbvsYHhyg55KgdsBHWKPD6ui+w6KtEXHVydo7QkojqDcsTYzgDjxn8sMahFUmVB3Ka5ylSnRxDItoQVIiGsdeTHcNoFRiay76nX5ibCBbzYh6CeXdSePnq1D0GTZLLQ3SMgfna7kia+WDUoPI/RKL4RSZ1/gGriDMdpbeukhFWPNOIU3f507bOE9eZQwmg/N01b3Pbe+GTgeWw/TX4EA5OIcj094aXoeDaamPtnu/8Cptcp+g3ENd3V28oVhRgGWCSrDtm2DYt3UoWoQleyNCdCOH3oZUapc+ZMQTRI2tMNlswSpvZCYcf4m7w0K9pJB/04ZRnH1YrdYyrz6cipaKep7pL8razLd4Ng+I+adoPtJNJR6co6PmGpJS/K9OeaCiz5no97B5FFgxNtydCHETV2C/cCQkX+JutyDMn+LO2y+Kf2aap+FEpiaYunAHs4kmTkjup3fhn8L2L7Il/hePx7poqn+vZPpLBmZpN9dgbp8lkO/wkVhl5ptfCZPZpaY2N8EjLTeQOz9nYTt/OGaXWAaoVDQMcucrO3Z79vqa0e4mTKIR+1KRYlsSVHYamVRa0ynnBMM+AddY8UDIDj/vewrSvR6Gn6yzLLUgLGMsRo+UPeOtJKjsiPSx/zKdcvA4nasvcPX/SKCw+fToEqBSW3OeQcfvRLPODu/xJTtmcYUB3+tTLRU8phdg4Zb375wFBJgbkXMirwK7lQxJQRq6SafLzx4qB4qDBtGIbXGnEms5Y5KEfYPU1vTi3TouF2pQZmQucLzunBG5X4uDUrfwDU/gy7Mtk2tOrgrzcU3Jtarxe0KRqD+RRlX2lAdMHNXEfAYvoEalId2geehnQvHDED9YRmqoxWJ7diZY882q8G+7KNI1RKsrZ/eEUb6byqvvaTtFQO0TWhimq9BropCMVZiKFPvTrgo/q0E3babjeqdGFGbGPfwZK5EPCpvU3pKG1MLlju9PvTraxT/5Ucn0V9rhAUF3F6YjUAkiKw8Zf7RO8fNexnIeUEkiyiO+7L2OWZio+3iIeX/uaSlKYGEKW7pdYGrsZnTCg79IDi+5CPUN/rkv+KTDxoNZJ5LjJ/z/6Xu2JOGnw1iaRnkcOns4yvxVaODuwmbJFFVsrWpkhbnPrHTYnMw6HTg8q0TKjMU8oIq5Mtr0UsAApZfyGv0aoDQKpld3A5Reymv0a4DSKJhe3Q1Qeimv0a8BSqNgenU3QOmlvEa/BiiNgunV3QCll/Ia/RqgNAqmV/d/AY/d6F7sseZHAAAAAElFTkSuQmCC) A: square matrix, v:vector, lamda: eigen value scalar  \n",
        "\n",
        "![image.png](data:image/png;base64,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)    \n",
        "![image.png](data:image/png;base64,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)  \n",
        "![image.png](data:image/png;base64,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)  \n",
        "\n",
        "\n",
        "![image.png](data:image/png;base64,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)  \n",
        "\n",
        "\n"
      ]
    },
    {
      "cell_type": "code",
      "metadata": {
        "colab": {
          "base_uri": "https://localhost:8080/"
        },
        "id": "GxJKifJoSg7J",
        "outputId": "ff91494f-b7c2-4c68-9e81-cc206e44d792"
      },
      "source": [
        "# eigendecomposition\n",
        "from numpy import array\n",
        "from numpy.linalg import eig\n",
        "# define matrix\n",
        "A = array([\n",
        "[1, 2, 3],\n",
        "[4, 5, 6],\n",
        "[7, 8, 9]])\n",
        "print(A)\n",
        "# factorize\n",
        "values, vectors = eig(A)\n",
        "print(values)\n",
        "print(vectors)\n",
        "#print(vectors[:, 0])"
      ],
      "execution_count": null,
      "outputs": [
        {
          "output_type": "stream",
          "text": [
            "[[1 2 3]\n",
            " [4 5 6]\n",
            " [7 8 9]]\n",
            "[ 1.61168440e+01 -1.11684397e+00 -9.75918483e-16]\n",
            "[[-0.23197069 -0.78583024  0.40824829]\n",
            " [-0.52532209 -0.08675134 -0.81649658]\n",
            " [-0.8186735   0.61232756  0.40824829]]\n",
            "[-0.23197069 -0.52532209 -0.8186735 ]\n"
          ],
          "name": "stdout"
        }
      ]
    },
    {
      "cell_type": "code",
      "metadata": {
        "id": "AAFY5X8ikep4"
      },
      "source": [
        "# reconstruct matrix\n",
        "from numpy import diag\n",
        "from numpy.linalg import inv\n",
        "from numpy import array\n",
        "from numpy.linalg import eig\n",
        "# define matrix\n",
        "A = array([\n",
        "[1, 2, 3],\n",
        "[4, 5, 6],\n",
        "[7, 8, 9]])\n",
        "print(A)\n",
        "# factorize\n",
        "values, vectors = eig(A)\n",
        "# create matrix from eigenvectors\n",
        "Q = vectors\n",
        "# create inverse of eigenvectors matrix\n",
        "R = inv(Q)\n",
        "# create diagonal matrix from eigenvalues\n",
        "L = diag(values)\n",
        "# reconstruct the original matrix\n",
        "B = Q.dot(L).dot(R)\n",
        "print(B)"
      ],
      "execution_count": null,
      "outputs": []
    },
    {
      "cell_type": "markdown",
      "metadata": {
        "id": "ct-RGHbVk6h8"
      },
      "source": [
        "**Singular Value Decomposition** \n",
        "\n",
        "All matrices have an SVD, which makes it more stable than other methods, such as the eigendecomposition.\n",
        "\n",
        "It is often used in a wide array of applications including compressing, denoising, and data reduction.  \n",
        "\n",
        "![image.png](data:image/png;base64,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)  \n",
        "\n",
        "\n",
        "\n",
        "![image.png](data:image/png;base64,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)  \n",
        "\n",
        "The singular value decomposition (SVD) provides another way to factorize a matrix, into singular vectors and singular values.  \n",
        "The SVD is used widely both in the calculation of other matrix operations, such as **matrix inverse**, but also as a **data reduction method in machine learning**. SVD can also be used in **least squares linear regression, image compression, and denoising data**.  \n",
        "\n",
        "\n",
        "\n",
        "\n",
        "\n"
      ]
    },
    {
      "cell_type": "code",
      "metadata": {
        "colab": {
          "base_uri": "https://localhost:8080/"
        },
        "id": "iCdzG7K-0Z-S",
        "outputId": "827018c8-a347-423b-a767-3687542ca1b2"
      },
      "source": [
        "# singular-value decomposition\n",
        "from numpy import array\n",
        "from scipy.linalg import svd\n",
        "# define a matrix\n",
        "A = array([\n",
        "[1, 2],\n",
        "[3, 4],\n",
        "[5, 6]])\n",
        "print(A)\n",
        "# factorize\n",
        "U, s, V = svd(A)\n",
        "print(U)\n",
        "print(s)\n",
        "print(V)"
      ],
      "execution_count": null,
      "outputs": [
        {
          "output_type": "stream",
          "text": [
            "[[1 2]\n",
            " [3 4]\n",
            " [5 6]]\n",
            "[[-0.2298477   0.88346102  0.40824829]\n",
            " [-0.52474482  0.24078249 -0.81649658]\n",
            " [-0.81964194 -0.40189603  0.40824829]]\n",
            "[9.52551809 0.51430058]\n",
            "[[-0.61962948 -0.78489445]\n",
            " [-0.78489445  0.61962948]]\n"
          ],
          "name": "stdout"
        }
      ]
    },
    {
      "cell_type": "code",
      "metadata": {
        "id": "rp35Eja02PCj"
      },
      "source": [
        "# reconstruct rectangular matrix from svd\n",
        "from numpy import array\n",
        "from numpy import diag\n",
        "from numpy import zeros\n",
        "from scipy.linalg import svd\n",
        "# define matrix\n",
        "A = array([\n",
        "[1, 2],\n",
        "[3, 4],\n",
        "[5, 6]])\n",
        "print(A)\n",
        "# factorize\n",
        "U, s, V = svd(A)\n",
        "# create m x n Sigma matrix\n",
        "Sigma = zeros((A.shape[0], A.shape[1]))\n",
        "# populate Sigma with n x n diagonal matrix\n",
        "Sigma[:A.shape[1], :A.shape[1]] = diag(s)\n",
        "# reconstruct matrix\n",
        "B = U.dot(Sigma.dot(V))\n",
        "print(B)"
      ],
      "execution_count": null,
      "outputs": []
    },
    {
      "cell_type": "code",
      "metadata": {
        "id": "obZuZrJ06Ddm"
      },
      "source": [
        "# data reduction with svd\n",
        "from numpy import array\n",
        "from numpy import diag\n",
        "from numpy import zeros\n",
        "from scipy.linalg import svd\n",
        "# define matrix\n",
        "A = array([\n",
        "[1,2,3,4,5,6,7,8,9,10],\n",
        "[11,12,13,14,15,16,17,18,19,20],\n",
        "[21,22,23,24,25,26,27,28,29,30]])\n",
        "print(A)\n",
        "# factorize\n",
        "U, s, V = svd(A)\n",
        "# create m x n Sigma matrix\n",
        "Sigma = zeros((A.shape[0], A.shape[1]))\n",
        "# populate Sigma with n x n diagonal matrix\n",
        "Sigma[:A.shape[0], :A.shape[0]] = diag(s)\n",
        "# select\n",
        "n_elements = 2\n",
        "Sigma = Sigma[:, :n_elements]\n",
        "V = V[:n_elements, :]\n",
        "# reconstruct\n",
        "B = U.dot(Sigma.dot(V))\n",
        "print(B)\n",
        "# transform\n",
        "T = U.dot(Sigma)\n",
        "print(T)\n",
        "T = A.dot(V.T)\n",
        "print(T)"
      ],
      "execution_count": null,
      "outputs": []
    },
    {
      "cell_type": "markdown",
      "metadata": {
        "id": "ZxWZR9_eyiJX"
      },
      "source": [
        "**Probability and Information Theory**  \n",
        "1. Expected Value and Mean\n",
        "2. Variance and Standard Deviation\n",
        "3. Covariance and Correlation\n",
        "4. Covariance Matrix"
      ]
    }
  ]
}